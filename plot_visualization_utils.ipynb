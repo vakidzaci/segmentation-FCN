{
 "cells": [
  {
   "cell_type": "code",
   "execution_count": 9,
   "metadata": {},
   "outputs": [],
   "source": [
    "%matplotlib inline"
   ]
  },
  {
   "cell_type": "markdown",
   "metadata": {},
   "source": [
    "\n",
    "# Visualization utilities\n",
    "\n",
    "This example illustrates some of the utilities that torchvision offers for\n",
    "visualizing images, bounding boxes, and segmentation masks.\n"
   ]
  },
  {
   "cell_type": "code",
   "execution_count": 10,
   "metadata": {},
   "outputs": [],
   "source": [
    "# sphinx_gallery_thumbnail_path = \"../../gallery/assets/visualization_utils_thumbnail.png\"\n",
    "\n",
    "import torch\n",
    "import numpy as np\n",
    "import matplotlib.pyplot as plt\n",
    "\n",
    "import torchvision.transforms.functional as F\n",
    "\n",
    "\n",
    "plt.rcParams[\"savefig.bbox\"] = 'tight'\n",
    "\n",
    "\n",
    "def show(imgs):\n",
    "    if not isinstance(imgs, list):\n",
    "        imgs = [imgs]\n",
    "    fix, axs = plt.subplots(ncols=len(imgs), squeeze=False)\n",
    "    for i, img in enumerate(imgs):\n",
    "        img = img.detach()\n",
    "        img = F.to_pil_image(img)\n",
    "        axs[0, i].imshow(np.asarray(img))\n",
    "        axs[0, i].set(xticklabels=[], yticklabels=[], xticks=[], yticks=[])"
   ]
  },
  {
   "cell_type": "code",
   "execution_count": 12,
   "metadata": {},
   "outputs": [],
   "source": [
    "from PIL import Image\n",
    "from torchvision import transforms\n",
    "dog1 = Image.open(\"dog1.jpg\")\n",
    "dog2 = Image.open(\"dog2.jpg\")\n",
    "convert_tensor = transforms.ToTensor()\n",
    "dog1 = convert_tensor(dog1)\n",
    "dog2 = convert_tensor(dog2)"
   ]
  },
  {
   "cell_type": "markdown",
   "metadata": {},
   "source": [
    "## Visualizing a grid of images\n",
    "The :func:`~torchvision.utils.make_grid` function can be used to create a\n",
    "tensor that represents multiple images in a grid.  This util requires a single\n",
    "image of dtype ``uint8`` as input.\n",
    "\n"
   ]
  },
  {
   "cell_type": "code",
   "execution_count": 11,
   "metadata": {
    "scrolled": true
   },
   "outputs": [
    {
     "ename": "RuntimeError",
     "evalue": "No such operator image::read_file",
     "output_type": "error",
     "traceback": [
      "\u001b[1;31m---------------------------------------------------------------------------\u001b[0m",
      "\u001b[1;31mRuntimeError\u001b[0m                              Traceback (most recent call last)",
      "\u001b[1;32m<ipython-input-11-dd4136692d73>\u001b[0m in \u001b[0;36m<module>\u001b[1;34m\u001b[0m\n\u001b[0;32m      3\u001b[0m \u001b[1;32mfrom\u001b[0m \u001b[0mpathlib\u001b[0m \u001b[1;32mimport\u001b[0m \u001b[0mPath\u001b[0m\u001b[1;33m\u001b[0m\u001b[1;33m\u001b[0m\u001b[0m\n\u001b[0;32m      4\u001b[0m \u001b[1;33m\u001b[0m\u001b[0m\n\u001b[1;32m----> 5\u001b[1;33m \u001b[0mdog1_int\u001b[0m \u001b[1;33m=\u001b[0m \u001b[0mread_image\u001b[0m\u001b[1;33m(\u001b[0m\u001b[1;34m'dog1.jpg'\u001b[0m\u001b[1;33m)\u001b[0m\u001b[1;33m\u001b[0m\u001b[1;33m\u001b[0m\u001b[0m\n\u001b[0m\u001b[0;32m      6\u001b[0m \u001b[0mdog2_int\u001b[0m \u001b[1;33m=\u001b[0m \u001b[0mread_image\u001b[0m\u001b[1;33m(\u001b[0m\u001b[1;34m'dog2.jpg'\u001b[0m\u001b[1;33m)\u001b[0m\u001b[1;33m\u001b[0m\u001b[1;33m\u001b[0m\u001b[0m\n\u001b[0;32m      7\u001b[0m \u001b[1;33m\u001b[0m\u001b[0m\n",
      "\u001b[1;32m~\\Anaconda3\\envs\\cloud_env\\lib\\site-packages\\torchvision\\io\\image.py\u001b[0m in \u001b[0;36mread_image\u001b[1;34m(path, mode)\u001b[0m\n\u001b[0;32m    220\u001b[0m         \u001b[0moutput\u001b[0m \u001b[1;33m(\u001b[0m\u001b[0mTensor\u001b[0m\u001b[1;33m[\u001b[0m\u001b[0mimage_channels\u001b[0m\u001b[1;33m,\u001b[0m \u001b[0mimage_height\u001b[0m\u001b[1;33m,\u001b[0m \u001b[0mimage_width\u001b[0m\u001b[1;33m]\u001b[0m\u001b[1;33m)\u001b[0m\u001b[1;33m\u001b[0m\u001b[1;33m\u001b[0m\u001b[0m\n\u001b[0;32m    221\u001b[0m     \"\"\"\n\u001b[1;32m--> 222\u001b[1;33m     \u001b[0mdata\u001b[0m \u001b[1;33m=\u001b[0m \u001b[0mread_file\u001b[0m\u001b[1;33m(\u001b[0m\u001b[0mpath\u001b[0m\u001b[1;33m)\u001b[0m\u001b[1;33m\u001b[0m\u001b[1;33m\u001b[0m\u001b[0m\n\u001b[0m\u001b[0;32m    223\u001b[0m     \u001b[1;32mreturn\u001b[0m \u001b[0mdecode_image\u001b[0m\u001b[1;33m(\u001b[0m\u001b[0mdata\u001b[0m\u001b[1;33m,\u001b[0m \u001b[0mmode\u001b[0m\u001b[1;33m)\u001b[0m\u001b[1;33m\u001b[0m\u001b[1;33m\u001b[0m\u001b[0m\n",
      "\u001b[1;32m~\\Anaconda3\\envs\\cloud_env\\lib\\site-packages\\torchvision\\io\\image.py\u001b[0m in \u001b[0;36mread_file\u001b[1;34m(path)\u001b[0m\n\u001b[0;32m     40\u001b[0m         \u001b[0mdata\u001b[0m \u001b[1;33m(\u001b[0m\u001b[0mTensor\u001b[0m\u001b[1;33m)\u001b[0m\u001b[1;33m\u001b[0m\u001b[1;33m\u001b[0m\u001b[0m\n\u001b[0;32m     41\u001b[0m     \"\"\"\n\u001b[1;32m---> 42\u001b[1;33m     \u001b[0mdata\u001b[0m \u001b[1;33m=\u001b[0m \u001b[0mtorch\u001b[0m\u001b[1;33m.\u001b[0m\u001b[0mops\u001b[0m\u001b[1;33m.\u001b[0m\u001b[0mimage\u001b[0m\u001b[1;33m.\u001b[0m\u001b[0mread_file\u001b[0m\u001b[1;33m(\u001b[0m\u001b[0mpath\u001b[0m\u001b[1;33m)\u001b[0m\u001b[1;33m\u001b[0m\u001b[1;33m\u001b[0m\u001b[0m\n\u001b[0m\u001b[0;32m     43\u001b[0m     \u001b[1;32mreturn\u001b[0m \u001b[0mdata\u001b[0m\u001b[1;33m\u001b[0m\u001b[1;33m\u001b[0m\u001b[0m\n\u001b[0;32m     44\u001b[0m \u001b[1;33m\u001b[0m\u001b[0m\n",
      "\u001b[1;32m~\\Anaconda3\\envs\\cloud_env\\lib\\site-packages\\torch\\_ops.py\u001b[0m in \u001b[0;36m__getattr__\u001b[1;34m(self, op_name)\u001b[0m\n\u001b[0;32m     61\u001b[0m         \u001b[1;31m# for overloads and raise an exception if there are more than one.\u001b[0m\u001b[1;33m\u001b[0m\u001b[1;33m\u001b[0m\u001b[1;33m\u001b[0m\u001b[0m\n\u001b[0;32m     62\u001b[0m         \u001b[0mqualified_op_name\u001b[0m \u001b[1;33m=\u001b[0m \u001b[1;34m'{}::{}'\u001b[0m\u001b[1;33m.\u001b[0m\u001b[0mformat\u001b[0m\u001b[1;33m(\u001b[0m\u001b[0mself\u001b[0m\u001b[1;33m.\u001b[0m\u001b[0mname\u001b[0m\u001b[1;33m,\u001b[0m \u001b[0mop_name\u001b[0m\u001b[1;33m)\u001b[0m\u001b[1;33m\u001b[0m\u001b[1;33m\u001b[0m\u001b[0m\n\u001b[1;32m---> 63\u001b[1;33m         \u001b[0mop\u001b[0m \u001b[1;33m=\u001b[0m \u001b[0mtorch\u001b[0m\u001b[1;33m.\u001b[0m\u001b[0m_C\u001b[0m\u001b[1;33m.\u001b[0m\u001b[0m_jit_get_operation\u001b[0m\u001b[1;33m(\u001b[0m\u001b[0mqualified_op_name\u001b[0m\u001b[1;33m)\u001b[0m\u001b[1;33m\u001b[0m\u001b[1;33m\u001b[0m\u001b[0m\n\u001b[0m\u001b[0;32m     64\u001b[0m         \u001b[1;31m# let the script frontend know that op is identical to the builtin op\u001b[0m\u001b[1;33m\u001b[0m\u001b[1;33m\u001b[0m\u001b[1;33m\u001b[0m\u001b[0m\n\u001b[0;32m     65\u001b[0m         \u001b[1;31m# with qualified_op_name\u001b[0m\u001b[1;33m\u001b[0m\u001b[1;33m\u001b[0m\u001b[1;33m\u001b[0m\u001b[0m\n",
      "\u001b[1;31mRuntimeError\u001b[0m: No such operator image::read_file"
     ]
    }
   ],
   "source": [
    "from torchvision.utils import make_grid\n",
    "from torchvision.io import read_image\n",
    "from pathlib import Path\n",
    "\n",
    "dog1_int = read_image('dog1.jpg')\n",
    "dog2_int = read_image('dog2.jpg')\n",
    "\n",
    "grid = make_grid([dog1_int, dog2_int, dog1_int, dog2_int])\n",
    "show(grid)"
   ]
  },
  {
   "cell_type": "markdown",
   "metadata": {},
   "source": [
    "## Visualizing bounding boxes\n",
    "We can use :func:`~torchvision.utils.draw_bounding_boxes` to draw boxes on an\n",
    "image. We can set the colors, labels, width as well as font and font size.\n",
    "The boxes are in ``(xmin, ymin, xmax, ymax)`` format.\n",
    "\n"
   ]
  },
  {
   "cell_type": "code",
   "execution_count": null,
   "metadata": {},
   "outputs": [],
   "source": [
    "from torchvision.utils import draw_bounding_boxes\n",
    "\n",
    "\n",
    "boxes = torch.tensor([[50, 50, 100, 200], [210, 150, 350, 430]], dtype=torch.float)\n",
    "colors = [\"blue\", \"yellow\"]\n",
    "result = draw_bounding_boxes(dog1_int, boxes, colors=colors, width=5)\n",
    "show(result)"
   ]
  },
  {
   "cell_type": "markdown",
   "metadata": {},
   "source": [
    "Naturally, we can also plot bounding boxes produced by torchvision detection\n",
    "models.  Here is demo with a Faster R-CNN model loaded from\n",
    ":func:`~torchvision.models.detection.fasterrcnn_resnet50_fpn`\n",
    "model. You can also try using a RetinaNet with\n",
    ":func:`~torchvision.models.detection.retinanet_resnet50_fpn`, an SSDlite with\n",
    ":func:`~torchvision.models.detection.ssdlite320_mobilenet_v3_large` or an SSD with\n",
    ":func:`~torchvision.models.detection.ssd300_vgg16`. For more details\n",
    "on the output of such models, you may refer to `instance_seg_output`.\n",
    "\n"
   ]
  },
  {
   "cell_type": "code",
   "execution_count": null,
   "metadata": {},
   "outputs": [],
   "source": [
    "from torchvision.models.detection import fasterrcnn_resnet50_fpn\n",
    "from torchvision.transforms.functional import convert_image_dtype\n",
    "\n",
    "\n",
    "batch_int = torch.stack([dog1_int, dog2_int])\n",
    "batch = convert_image_dtype(batch_int, dtype=torch.float)\n",
    "\n",
    "model = fasterrcnn_resnet50_fpn(pretrained=True, progress=False)\n",
    "model = model.eval()\n",
    "\n",
    "outputs = model(batch)\n",
    "print(outputs)"
   ]
  },
  {
   "cell_type": "markdown",
   "metadata": {},
   "source": [
    "Let's plot the boxes detected by our model. We will only plot the boxes with a\n",
    "score greater than a given threshold.\n",
    "\n"
   ]
  },
  {
   "cell_type": "code",
   "execution_count": null,
   "metadata": {},
   "outputs": [],
   "source": [
    "score_threshold = .8\n",
    "dogs_with_boxes = [\n",
    "    draw_bounding_boxes(dog_int, boxes=output['boxes'][output['scores'] > score_threshold], width=4)\n",
    "    for dog_int, output in zip(batch_int, outputs)\n",
    "]\n",
    "show(dogs_with_boxes)"
   ]
  },
  {
   "cell_type": "markdown",
   "metadata": {},
   "source": [
    "## Visualizing segmentation masks\n",
    "The :func:`~torchvision.utils.draw_segmentation_masks` function can be used to\n",
    "draw segmentation masks on images. Semantic segmentation and instance\n",
    "segmentation models have different outputs, so we will treat each\n",
    "independently.\n",
    "\n",
    "\n",
    "### Semantic segmentation models\n",
    "\n",
    "We will see how to use it with torchvision's FCN Resnet-50, loaded with\n",
    ":func:`~torchvision.models.segmentation.fcn_resnet50`.  You can also try using\n",
    "DeepLabv3 (:func:`~torchvision.models.segmentation.deeplabv3_resnet50`) or\n",
    "lraspp mobilenet models\n",
    "(:func:`~torchvision.models.segmentation.lraspp_mobilenet_v3_large`).\n",
    "\n",
    "Let's start by looking at the ouput of the model. Remember that in general,\n",
    "images must be normalized before they're passed to a semantic segmentation\n",
    "model.\n",
    "\n"
   ]
  },
  {
   "cell_type": "code",
   "execution_count": null,
   "metadata": {},
   "outputs": [],
   "source": [
    "from torchvision.models.segmentation import fcn_resnet50\n",
    "\n",
    "\n",
    "model = fcn_resnet50(pretrained=True, progress=False)\n",
    "model = model.eval()\n",
    "\n",
    "normalized_batch = F.normalize(batch, mean=(0.485, 0.456, 0.406), std=(0.229, 0.224, 0.225))\n",
    "output = model(normalized_batch)['out']\n",
    "print(output.shape, output.min().item(), output.max().item())"
   ]
  },
  {
   "cell_type": "markdown",
   "metadata": {},
   "source": [
    "As we can see above, the output of the segmentation model is a tensor of shape\n",
    "``(batch_size, num_classes, H, W)``. Each value is a non-normalized score, and\n",
    "we can normalize them into ``[0, 1]`` by using a softmax. After the softmax,\n",
    "we can interpret each value as a probability indicating how likely a given\n",
    "pixel is to belong to a given class.\n",
    "\n",
    "Let's plot the masks that have been detected for the dog class and for the\n",
    "boat class:\n",
    "\n"
   ]
  },
  {
   "cell_type": "code",
   "execution_count": null,
   "metadata": {},
   "outputs": [],
   "source": [
    "sem_classes = [\n",
    "    '__background__', 'aeroplane', 'bicycle', 'bird', 'boat', 'bottle', 'bus',\n",
    "    'car', 'cat', 'chair', 'cow', 'diningtable', 'dog', 'horse', 'motorbike',\n",
    "    'person', 'pottedplant', 'sheep', 'sofa', 'train', 'tvmonitor'\n",
    "]\n",
    "sem_class_to_idx = {cls: idx for (idx, cls) in enumerate(sem_classes)}\n",
    "\n",
    "normalized_masks = torch.nn.functional.softmax(output, dim=1)\n",
    "\n",
    "dog_and_boat_masks = [\n",
    "    normalized_masks[img_idx, sem_class_to_idx[cls]]\n",
    "    for img_idx in range(batch.shape[0])\n",
    "    for cls in ('dog', 'boat')\n",
    "]\n",
    "\n",
    "show(dog_and_boat_masks)"
   ]
  },
  {
   "cell_type": "markdown",
   "metadata": {},
   "source": [
    "As expected, the model is confident about the dog class, but not so much for\n",
    "the boat class.\n",
    "\n",
    "The :func:`~torchvision.utils.draw_segmentation_masks` function can be used to\n",
    "plots those masks on top of the original image. This function expects the\n",
    "masks to be boolean masks, but our masks above contain probabilities in ``[0,\n",
    "1]``. To get boolean masks, we can do the following:\n",
    "\n"
   ]
  },
  {
   "cell_type": "code",
   "execution_count": null,
   "metadata": {},
   "outputs": [],
   "source": [
    "class_dim = 1\n",
    "boolean_dog_masks = (normalized_masks.argmax(class_dim) == sem_class_to_idx['dog'])\n",
    "print(f\"shape = {boolean_dog_masks.shape}, dtype = {boolean_dog_masks.dtype}\")\n",
    "show([m.float() for m in boolean_dog_masks])"
   ]
  },
  {
   "cell_type": "markdown",
   "metadata": {},
   "source": [
    "The line above where we define ``boolean_dog_masks`` is a bit cryptic, but you\n",
    "can read it as the following query: \"For which pixels is 'dog' the most likely\n",
    "class?\"\n",
    "\n",
    "<div class=\"alert alert-info\"><h4>Note</h4><p>While we're using the ``normalized_masks`` here, we would have\n",
    "  gotten the same result by using the non-normalized scores of the model\n",
    "  directly (as the softmax operation preserves the order).</p></div>\n",
    "\n",
    "Now that we have boolean masks, we can use them with\n",
    ":func:`~torchvision.utils.draw_segmentation_masks` to plot them on top of the\n",
    "original images:\n",
    "\n"
   ]
  },
  {
   "cell_type": "code",
   "execution_count": null,
   "metadata": {},
   "outputs": [],
   "source": [
    "from torchvision.utils import draw_segmentation_masks\n",
    "\n",
    "dogs_with_masks = [\n",
    "    draw_segmentation_masks(img, masks=mask, alpha=0.7)\n",
    "    for img, mask in zip(batch_int, boolean_dog_masks)\n",
    "]\n",
    "show(dogs_with_masks)"
   ]
  },
  {
   "cell_type": "markdown",
   "metadata": {},
   "source": [
    "We can plot more than one mask per image! Remember that the model returned as\n",
    "many masks as there are classes. Let's ask the same query as above, but this\n",
    "time for *all* classes, not just the dog class: \"For each pixel and each class\n",
    "C, is class C the most most likely class?\"\n",
    "\n",
    "This one is a bit more involved, so we'll first show how to do it with a\n",
    "single image, and then we'll generalize to the batch\n",
    "\n"
   ]
  },
  {
   "cell_type": "code",
   "execution_count": null,
   "metadata": {},
   "outputs": [],
   "source": [
    "num_classes = normalized_masks.shape[1]\n",
    "dog1_masks = normalized_masks[0]\n",
    "class_dim = 0\n",
    "dog1_all_classes_masks = dog1_masks.argmax(class_dim) == torch.arange(num_classes)[:, None, None]\n",
    "\n",
    "print(f\"dog1_masks shape = {dog1_masks.shape}, dtype = {dog1_masks.dtype}\")\n",
    "print(f\"dog1_all_classes_masks = {dog1_all_classes_masks.shape}, dtype = {dog1_all_classes_masks.dtype}\")\n",
    "\n",
    "dog_with_all_masks = draw_segmentation_masks(dog1_int, masks=dog1_all_classes_masks, alpha=.6)\n",
    "show(dog_with_all_masks)"
   ]
  },
  {
   "cell_type": "markdown",
   "metadata": {},
   "source": [
    "We can see in the image above that only 2 masks were drawn: the mask for the\n",
    "background and the mask for the dog. This is because the model thinks that\n",
    "only these 2 classes are the most likely ones across all the pixels. If the\n",
    "model had detected another class as the most likely among other pixels, we\n",
    "would have seen its mask above.\n",
    "\n",
    "Removing the background mask is as simple as passing\n",
    "``masks=dog1_all_classes_masks[1:]``, because the background class is the\n",
    "class with index 0.\n",
    "\n",
    "Let's now do the same but for an entire batch of images. The code is similar\n",
    "but involves a bit more juggling with the dimensions.\n",
    "\n"
   ]
  },
  {
   "cell_type": "code",
   "execution_count": null,
   "metadata": {},
   "outputs": [],
   "source": [
    "class_dim = 1\n",
    "all_classes_masks = normalized_masks.argmax(class_dim) == torch.arange(num_classes)[:, None, None, None]\n",
    "print(f\"shape = {all_classes_masks.shape}, dtype = {all_classes_masks.dtype}\")\n",
    "# The first dimension is the classes now, so we need to swap it\n",
    "all_classes_masks = all_classes_masks.swapaxes(0, 1)\n",
    "\n",
    "dogs_with_masks = [\n",
    "    draw_segmentation_masks(img, masks=mask, alpha=.6)\n",
    "    for img, mask in zip(batch_int, all_classes_masks)\n",
    "]\n",
    "show(dogs_with_masks)"
   ]
  },
  {
   "cell_type": "markdown",
   "metadata": {},
   "source": [
    "\n",
    "### Instance segmentation models\n",
    "\n",
    "Instance segmentation models have a significantly different output from the\n",
    "semantic segmentation models. We will see here how to plot the masks for such\n",
    "models. Let's start by analyzing the output of a Mask-RCNN model. Note that\n",
    "these models don't require the images to be normalized, so we don't need to\n",
    "use the normalized batch.\n",
    "\n",
    "<div class=\"alert alert-info\"><h4>Note</h4><p>We will here describe the output of a Mask-RCNN model. The models in\n",
    "    `object_det_inst_seg_pers_keypoint_det` all have a similar output\n",
    "    format, but some of them may have extra info like keypoints for\n",
    "    :func:`~torchvision.models.detection.keypointrcnn_resnet50_fpn`, and some\n",
    "    of them may not have masks, like\n",
    "    :func:`~torchvision.models.detection.fasterrcnn_resnet50_fpn`.</p></div>\n",
    "\n"
   ]
  },
  {
   "cell_type": "code",
   "execution_count": null,
   "metadata": {},
   "outputs": [],
   "source": [
    "from torchvision.models.detection import maskrcnn_resnet50_fpn\n",
    "model = maskrcnn_resnet50_fpn(pretrained=True, progress=False)\n",
    "model = model.eval()\n",
    "\n",
    "output = model(batch)\n",
    "print(output)"
   ]
  },
  {
   "cell_type": "markdown",
   "metadata": {},
   "source": [
    "Let's break this down. For each image in the batch, the model outputs some\n",
    "detections (or instances). The number of detections varies for each input\n",
    "image. Each instance is described by its bounding box, its label, its score\n",
    "and its mask.\n",
    "\n",
    "The way the output is organized is as follows: the output is a list of length\n",
    "``batch_size``. Each entry in the list corresponds to an input image, and it\n",
    "is a dict with keys 'boxes', 'labels', 'scores', and 'masks'. Each value\n",
    "associated to those keys has ``num_instances`` elements in it.  In our case\n",
    "above there are 3 instances detected in the first image, and 2 instances in\n",
    "the second one.\n",
    "\n",
    "The boxes can be plotted with :func:`~torchvision.utils.draw_bounding_boxes`\n",
    "as above, but here we're more interested in the masks. These masks are quite\n",
    "different from the masks that we saw above for the semantic segmentation\n",
    "models.\n",
    "\n"
   ]
  },
  {
   "cell_type": "code",
   "execution_count": null,
   "metadata": {},
   "outputs": [],
   "source": [
    "dog1_output = output[0]\n",
    "dog1_masks = dog1_output['masks']\n",
    "print(f\"shape = {dog1_masks.shape}, dtype = {dog1_masks.dtype}, \"\n",
    "      f\"min = {dog1_masks.min()}, max = {dog1_masks.max()}\")"
   ]
  },
  {
   "cell_type": "markdown",
   "metadata": {},
   "source": [
    "Here the masks corresponds to probabilities indicating, for each pixel, how\n",
    "likely it is to belong to the predicted label of that instance. Those\n",
    "predicted labels correspond to the 'labels' element in the same output dict.\n",
    "Let's see which labels were predicted for the instances of the first image.\n",
    "\n"
   ]
  },
  {
   "cell_type": "code",
   "execution_count": null,
   "metadata": {},
   "outputs": [],
   "source": [
    "inst_classes = [\n",
    "    '__background__', 'person', 'bicycle', 'car', 'motorcycle', 'airplane', 'bus',\n",
    "    'train', 'truck', 'boat', 'traffic light', 'fire hydrant', 'N/A', 'stop sign',\n",
    "    'parking meter', 'bench', 'bird', 'cat', 'dog', 'horse', 'sheep', 'cow',\n",
    "    'elephant', 'bear', 'zebra', 'giraffe', 'N/A', 'backpack', 'umbrella', 'N/A', 'N/A',\n",
    "    'handbag', 'tie', 'suitcase', 'frisbee', 'skis', 'snowboard', 'sports ball',\n",
    "    'kite', 'baseball bat', 'baseball glove', 'skateboard', 'surfboard', 'tennis racket',\n",
    "    'bottle', 'N/A', 'wine glass', 'cup', 'fork', 'knife', 'spoon', 'bowl',\n",
    "    'banana', 'apple', 'sandwich', 'orange', 'broccoli', 'carrot', 'hot dog', 'pizza',\n",
    "    'donut', 'cake', 'chair', 'couch', 'potted plant', 'bed', 'N/A', 'dining table',\n",
    "    'N/A', 'N/A', 'toilet', 'N/A', 'tv', 'laptop', 'mouse', 'remote', 'keyboard', 'cell phone',\n",
    "    'microwave', 'oven', 'toaster', 'sink', 'refrigerator', 'N/A', 'book',\n",
    "    'clock', 'vase', 'scissors', 'teddy bear', 'hair drier', 'toothbrush'\n",
    "]\n",
    "\n",
    "inst_class_to_idx = {cls: idx for (idx, cls) in enumerate(inst_classes)}\n",
    "\n",
    "print(\"For the first dog, the following instances were detected:\")\n",
    "print([inst_classes[label] for label in dog1_output['labels']])"
   ]
  },
  {
   "cell_type": "markdown",
   "metadata": {},
   "source": [
    "Interestingly, the model detects two persons in the image. Let's go ahead and\n",
    "plot those masks. Since :func:`~torchvision.utils.draw_segmentation_masks`\n",
    "expects boolean masks, we need to convert those probabilities into boolean\n",
    "values. Remember that the semantic of those masks is \"How likely is this pixel\n",
    "to belong to the predicted class?\". As a result, a natural way of converting\n",
    "those masks into boolean values is to threshold them with the 0.5 probability\n",
    "(one could also choose a different threshold).\n",
    "\n"
   ]
  },
  {
   "cell_type": "code",
   "execution_count": null,
   "metadata": {},
   "outputs": [],
   "source": [
    "proba_threshold = 0.5\n",
    "dog1_bool_masks = dog1_output['masks'] > proba_threshold\n",
    "print(f\"shape = {dog1_bool_masks.shape}, dtype = {dog1_bool_masks.dtype}\")\n",
    "\n",
    "# There's an extra dimension (1) to the masks. We need to remove it\n",
    "dog1_bool_masks = dog1_bool_masks.squeeze(1)\n",
    "\n",
    "show(draw_segmentation_masks(dog1_int, dog1_bool_masks, alpha=0.9))"
   ]
  },
  {
   "cell_type": "markdown",
   "metadata": {},
   "source": [
    "The model seems to have properly detected the dog, but it also confused trees\n",
    "with people. Looking more closely at the scores will help us plotting more\n",
    "relevant masks:\n",
    "\n"
   ]
  },
  {
   "cell_type": "code",
   "execution_count": null,
   "metadata": {},
   "outputs": [],
   "source": [
    "print(dog1_output['scores'])"
   ]
  },
  {
   "cell_type": "markdown",
   "metadata": {},
   "source": [
    "Clearly the model is more confident about the dog detection than it is about\n",
    "the people detections. That's good news. When plotting the masks, we can ask\n",
    "for only those that have a good score. Let's use a score threshold of .75\n",
    "here, and also plot the masks of the second dog.\n",
    "\n"
   ]
  },
  {
   "cell_type": "code",
   "execution_count": null,
   "metadata": {},
   "outputs": [],
   "source": [
    "score_threshold = .75\n",
    "\n",
    "boolean_masks = [\n",
    "    out['masks'][out['scores'] > score_threshold] > proba_threshold\n",
    "    for out in output\n",
    "]\n",
    "\n",
    "dogs_with_masks = [\n",
    "    draw_segmentation_masks(img, mask.squeeze(1))\n",
    "    for img, mask in zip(batch_int, boolean_masks)\n",
    "]\n",
    "show(dogs_with_masks)"
   ]
  },
  {
   "cell_type": "markdown",
   "metadata": {},
   "source": [
    "The two 'people' masks in the first image where not selected because they have\n",
    "a lower score than the score threshold. Similarly in the second image, the\n",
    "instance with class 15 (which corresponds to 'bench') was not selected.\n",
    "\n"
   ]
  }
 ],
 "metadata": {
  "kernelspec": {
   "display_name": "cloud_env",
   "language": "python",
   "name": "cloud_env"
  },
  "language_info": {
   "codemirror_mode": {
    "name": "ipython",
    "version": 3
   },
   "file_extension": ".py",
   "mimetype": "text/x-python",
   "name": "python",
   "nbconvert_exporter": "python",
   "pygments_lexer": "ipython3",
   "version": "3.8.5"
  }
 },
 "nbformat": 4,
 "nbformat_minor": 1
}
